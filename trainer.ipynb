{
 "cells": [
  {
   "cell_type": "code",
   "execution_count": 1,
   "metadata": {},
   "outputs": [],
   "source": [
    "#imports\n",
    "from cnn import *\n",
    "import time\n",
    "from timeit import timeit,Timer\n",
    "from GameController import *\n",
    "#import itertools\n",
    "import sys\n",
    "#import objgraph\n",
    "import os\n",
    "import psutil\n",
    "from scipy import stats\n",
    "import matplotlib.pyplot as plt\n",
    "from IPython.display import clear_output\n",
    "#import objgraph\n",
    "process = psutil.Process(os.getpid())"
   ]
  },
  {
   "cell_type": "code",
   "execution_count": 2,
   "metadata": {},
   "outputs": [],
   "source": [
    "#Modified Functions\n",
    "#infer_action\n",
    "#get_seq_y\n",
    "#train_network\n",
    "\n",
    "#Relevant Functions\n",
    "def infer_action(seq):\n",
    "    action = tf.get_default_graph().get_tensor_by_name(\"action:0\")\n",
    "    q_compute = tf.get_default_graph().get_tensor_by_name(\"Qnext_val:0\")\n",
    "    outputs = tf.get_default_graph().get_tensor_by_name(\"dense_layers/FC2/act2/Maximum:0\")\n",
    "    x1,y,x2,next_state_bool,Qnext= get_place_holders()\n",
    "    #return sess.run([action],{x1: seq,x2: np.random.rand(1,110,84,4),next_state_bool: False})\n",
    "    a,q,o = sess.run([action,q_compute,outputs],{x1: seq})\n",
    "    return a\n",
    "\n",
    "def send_action_to_game_controller(game,a):\n",
    "    if (a == 0):\n",
    "        game.move_mouse_up()\n",
    "    elif (a == 1):\n",
    "        game.move_mouse_down()\n",
    "    elif (a == 2):\n",
    "        game.move_mouse_left()\n",
    "    elif (a == 3):\n",
    "        game.move_mouse_right()\n",
    "    else:\n",
    "        x = 1\n",
    "        # Do Nothing\n",
    "    \n",
    "    r = game.reward\n",
    "    frames,bval = get_4_frames(game)\n",
    "    return r,frames,bval\n",
    "\n",
    "def random_minibatch_sample(batchsize):\n",
    "    global exp\n",
    "    \n",
    "    line_N = np.random.randint(0,len(exp),size=batchsize)\n",
    "    return np.asarray([exp[i] for i in line_N]).transpose()\n",
    "    \n",
    "def get_seq_y(seq,batch_size,gamma):\n",
    "    q_compute = tf.get_default_graph().get_tensor_by_name(\"Qnext_val:0\")\n",
    "    x1,y,x2,next_state_bool,Qnext = get_place_holders()\n",
    "    #1.0/256\n",
    "    \n",
    "    imgs_2 = [((1.0)*np.array(seq[3,i])).astype(np.float16) for i in range(0,batch_size)]\n",
    "    imgs_1 = [((1.0)*np.array(seq[0,i])).astype(np.float16) for i in range(0,batch_size)]\n",
    "    \n",
    "    q_vals = sess.run([q_compute],{x1: imgs_2})\n",
    "    r_vals = [seq[2,i] for i in range(0,batch_size)]\n",
    "    \n",
    "    q_vals = np.array(q_vals)\n",
    "    r_vals = np.array(r_vals)\n",
    "    y = (r_vals+(gamma*q_vals)).reshape(len(r_vals),1)\n",
    "    return y,np.squeeze(np.array(imgs_1))\n",
    "    \n",
    "def store_exp(seq):\n",
    "    global exp\n",
    "    exp.append(seq)\n",
    "    return\n",
    "\n",
    "def train_network(batch_size,gamma):\n",
    "    #Required tensorflow variables and operations\n",
    "    global writer,summ,it\n",
    "    x1,y,x2,next_state_bool,Qnext = get_place_holders()\n",
    "    train = tf.get_default_graph().get_operation_by_name(\"train/trainer\")\n",
    "    seq = random_minibatch_sample(batch_size)\n",
    "    y_vals,images = get_seq_y(seq,batch_size,gamma)\n",
    "    images = np.squeeze(images)\n",
    "    t,s = sess.run([train,summ],{x1: images, Qnext: y_vals})\n",
    "    writer.add_summary(s,it)\n",
    "    it = it+1\n",
    "    return\n",
    "\n",
    "def get_4_frames(game):\n",
    "    imgs = np.concatenate((take_shot(game),\n",
    "                         take_shot(game),\n",
    "                         take_shot(game),\n",
    "                         take_shot(game)),axis=2)\n",
    "    bval = game.get_screen_number2(np.array(imgs))\n",
    "    rtnbool = True if bval else False\n",
    "    return imgs,rtnbool\n",
    "\n",
    "def add_to_queue(frames):\n",
    "    global writer,summ,i\n",
    "    q = tf.get_default_graph().get_operation_by_name(\"FIFOQueue/Train_Queue\")\n",
    "    q.enqueue(frames)"
   ]
  },
  {
   "cell_type": "code",
   "execution_count": 3,
   "metadata": {},
   "outputs": [],
   "source": [
    "#Train/Play Fucnction\n",
    "def run(game,greed,M,batch_size,gamma):\n",
    "    global exp\n",
    "    t_a = []\n",
    "    for i in range(0,M):  #New play\n",
    "        clear_output(wait=True)\n",
    "        if (i % 50 == 0):\n",
    "            if (greed >= .2):\n",
    "                greed = greed-.2\n",
    "            else:\n",
    "                greed = .1\n",
    "        wait_for(1)\n",
    "        p = 0\n",
    "        t = time.time()\n",
    "        game.click_to_play()\n",
    "        while game.get_screen_number(take_shot(game)): #for j in range(0,T): #While play active\n",
    "            frames1,test = get_4_frames(game)\n",
    "            if (not test):\n",
    "                break\n",
    "            a = np.asarray(np.random.randint(0,5)).astype(np.uint8) if (np.random.random_sample(1) <= greed) else np.asarray(infer_action([frames1])).astype(np.float16)\n",
    "            r,frames2,test = send_action_to_game_controller(game,a)\n",
    "            if (not test):\n",
    "                break\n",
    "            store_exp((frames1,np.array(a).astype(np.uint8),np.array(r).astype(np.float16),frames2))\n",
    "            if (len(exp) > 5):\n",
    "                #add_to_train_queue(batch_size)\n",
    "                train_network(batch_size,gamma)\n",
    "        game.release_click()\n",
    "        t_a.append(time.time()-t)\n",
    "        wait_for(.3)\n",
    "        game.click_replay()\n",
    "        print(\"Iteration: \",i)\n",
    "        print(\"Greed: \",greed)\n",
    "        #print(\"size: \",len(exp))\n",
    "        #print(\"size bytes: \",sys.getsizeof(exp))\n",
    "        print(\"mem: \",(process.memory_info().rss)/1e6)\n",
    "    return t_a\n",
    "\n",
    "def play_game(game,M):\n",
    "    for i in range(0,M):\n",
    "        wait_for(1)\n",
    "        game.click_to_play()\n",
    "        while game.get_screen_number2(take_shot(game)):\n",
    "            frames,test = get_4_frames(game)\n",
    "            if (not test):\n",
    "                break\n",
    "            a = infer_action([frames])\n",
    "            r,frames,test = send_action_to_game_controller(game,a)\n",
    "            if (not test):\n",
    "                break\n",
    "        game.release_click()\n",
    "        wait_for(.3)\n",
    "        game.click_replay()\n",
    "        print(\"Play Iteration: \",i)"
   ]
  },
  {
   "cell_type": "code",
   "execution_count": 4,
   "metadata": {},
   "outputs": [
    {
     "name": "stdout",
     "output_type": "stream",
     "text": [
      "sdevconv1:  0.08838834764831845\n",
      "sdevconv2:  0.08838834764831845\n",
      "sdevFC1:  0.006454972243679028\n",
      "sdevFC2:  0.0565685424949238\n"
     ]
    }
   ],
   "source": [
    "#[8,4] [4,2]\n",
    "conv_k_size = [8,4]\n",
    "conv_stride = [4,2]\n",
    "conv = [0,16,32]\n",
    "fclyr = [0,125,5]\n",
    "conv_count = len(conv)\n",
    "fc_count = len(fclyr)\n",
    "learning_rate = 1e-4\n",
    "batch_size = 10\n",
    "LOGDIR = r\"c:\\Users\\devar\\Documents\\EngProj\\SSPlayer\\log1k2\"\n",
    "sess,writer,summ,place_holders= create_model(learning_rate,batch_size,conv_count,fc_count,conv,fclyr,conv_k_size,conv_stride,LOGDIR)\n",
    "\n",
    "#writer.add_graph(sess.graph)"
   ]
  },
  {
   "cell_type": "code",
   "execution_count": 5,
   "metadata": {
    "scrolled": true
   },
   "outputs": [
    {
     "name": "stdout",
     "output_type": "stream",
     "text": [
      "Iteration:  199\n",
      "Greed:  0.09999999999999992\n",
      "mem:  1340.747776\n"
     ]
    }
   ],
   "source": [
    "it = 1\n",
    "exp = []\n",
    "app_dir = r\"C:\\Users\\devar\\Documents\\EngProj\\SSPlayer\\Release.win32\\ShapeScape.exe\"\n",
    "if it:\n",
    "    if __name__ == \"__main__\":\n",
    "        game = SSPlayer(app_dir,2)\n",
    "        wait_for(1)\n",
    "        print(\"Game Byte Size: \",sys.getsizeof(game))\n",
    "        game.click_play()\n",
    "        t_a = run(game,.9,200,5,.9)\n",
    "        p_i = np.arange(0,200,1)\n",
    "        #play_game(game,15)\n",
    "        #sess.close()\n",
    "        game.kill()\n",
    "#[128,192,192,264,264]"
   ]
  },
  {
   "cell_type": "code",
   "execution_count": 6,
   "metadata": {},
   "outputs": [],
   "source": [
    "#Other Functions\n",
    "def save_imgs(exp):\n",
    "    img_1 = [(250*((1.0/256)*np.array(exp[i][0]))).astype(np.uint8) for i in range(0,len(exp))]\n",
    "    img_2 = [(250*((1.0/256)*np.array(exp[i][3]))).astype(np.uint8) for i in range(0,len(exp))]\n",
    "    \n",
    "    print(np.shape(img_1))\n",
    "    print(np.shape(img_2))\n",
    "    \n",
    "    imgs= []\n",
    "    for i in img_1:\n",
    "        imgs.append(i[:,:,0])\n",
    "        imgs.append(i[:,:,1])\n",
    "        imgs.append(i[:,:,2])\n",
    "        imgs.append(i[:,:,3])\n",
    "        \n",
    "    \n",
    "    for i in img_2:\n",
    "        imgs.append(i[:,:,0])\n",
    "        imgs.append(i[:,:,1])\n",
    "        imgs.append(i[:,:,2])\n",
    "        imgs.append(i[:,:,3])\n",
    "        \n",
    "    \n",
    "    print(np.shape(imgs))\n",
    "    print(sys.getsizeof(imgs)/1000)\n",
    "    for i in range(0,len(imgs)):\n",
    "        Image.fromarray(imgs[i]).save(r\"test\\frame\"+str(i)+\".png\")\n",
    "    return\n",
    "        \n",
    "def test_seq(game,batch_size):\n",
    "    seq = []\n",
    "    for i in range(0,batch_size):\n",
    "        frames,t = get_4_frames(game,game.processing_crop)\n",
    "        seq.append(frames)\n",
    "        seq.append(np.random.randint(0,4))\n",
    "        seq.append(np.random.random_sample(1))\n",
    "        frames,t = get_4_frames(game,game.processing_crop)\n",
    "        seq.append(frames)\n",
    "    return seq\n",
    "\n",
    "def test():\n",
    "    x1,y,x2,next_state_bool,Qnext = get_place_holders()\n",
    "    train = tf.get_default_graph().get_operation_by_name(\"train/trainer\")\n",
    "    dummy = np.random.rand(25,110,84,4)\n",
    "    y_vals = np.random.rand(25,1)\n",
    "    sess.run([train],{x1: dummy,x2: dummy,Qnext: y_vals,next_state_bool:False})\n",
    "    return\n",
    "\n",
    "if False:\n",
    "    print(Timer(lambda: test()).timeit(number=1))"
   ]
  },
  {
   "cell_type": "code",
   "execution_count": 11,
   "metadata": {},
   "outputs": [
    {
     "name": "stderr",
     "output_type": "stream",
     "text": [
      "c:\\users\\devar\\envs\\rl\\lib\\site-packages\\pywinauto\\application.py:1032: UserWarning: 32-bit application should be automated using 32-bit Python (you use 64-bit Python)\n",
      "  UserWarning)\n"
     ]
    },
    {
     "name": "stdout",
     "output_type": "stream",
     "text": [
      "Play Iteration:  0\n",
      "Play Iteration:  1\n",
      "Play Iteration:  2\n",
      "Play Iteration:  3\n",
      "Play Iteration:  4\n",
      "Play Iteration:  5\n",
      "Play Iteration:  6\n",
      "Play Iteration:  7\n",
      "Play Iteration:  8\n",
      "Play Iteration:  9\n",
      "Play Iteration:  10\n",
      "Play Iteration:  11\n",
      "Play Iteration:  12\n",
      "Play Iteration:  13\n",
      "Play Iteration:  14\n"
     ]
    }
   ],
   "source": [
    "x = 1\n",
    "if x:\n",
    "    game = SSPlayer(app_dir,2)\n",
    "    wait_for(1)\n",
    "    game.click_play()\n",
    "    wait_for(1)\n",
    "    play_game(game,15)\n",
    "    game.kill()"
   ]
  },
  {
   "cell_type": "code",
   "execution_count": 8,
   "metadata": {},
   "outputs": [
    {
     "data": {
      "image/png": "[encoded data removed]",
      "text/plain": [
       "<Figure size 432x288 with 1 Axes>"
      ]
     },
     "metadata": {},
     "output_type": "display_data"
    }
   ],
   "source": [
    "def smooth(y, box_pts):\n",
    "    box = np.ones(box_pts)/box_pts\n",
    "    y_smooth = np.convolve(y, box, mode='same')\n",
    "    return y_smooth\n",
    "\n",
    "plt.plot(p_i, t_a,'o')\n",
    "plt.plot(p_i, smooth(t_a,19), 'r-', lw=2)\n",
    "plt.show()"
   ]
  },
  {
   "cell_type": "code",
   "execution_count": 9,
   "metadata": {},
   "outputs": [
    {
     "ename": "NameError",
     "evalue": "name 'objgraph' is not defined",
     "output_type": "error",
     "traceback": [
      "\u001b[1;31m---------------------------------------------------------------------------\u001b[0m",
      "\u001b[1;31mNameError\u001b[0m                                 Traceback (most recent call last)",
      "\u001b[1;32m<ipython-input-9-bbfab3e0d842>\u001b[0m in \u001b[0;36m<module>\u001b[1;34m()\u001b[0m\n\u001b[1;32m----> 1\u001b[1;33m \u001b[0mlo\u001b[0m \u001b[1;33m=\u001b[0m \u001b[0mobjgraph\u001b[0m\u001b[1;33m.\u001b[0m\u001b[0mget_leaking_objects\u001b[0m\u001b[1;33m(\u001b[0m\u001b[1;33m)\u001b[0m\u001b[1;33m\u001b[0m\u001b[0m\n\u001b[0m\u001b[0;32m      2\u001b[0m \u001b[0mobjgraph\u001b[0m\u001b[1;33m.\u001b[0m\u001b[0mmost_common_types\u001b[0m\u001b[1;33m(\u001b[0m\u001b[1;33m)\u001b[0m\u001b[1;33m\u001b[0m\u001b[0m\n",
      "\u001b[1;31mNameError\u001b[0m: name 'objgraph' is not defined"
     ]
    }
   ],
   "source": [
    "lo = objgraph.get_leaking_objects()\n",
    "objgraph.most_common_types()"
   ]
  },
  {
   "cell_type": "code",
   "execution_count": null,
   "metadata": {},
   "outputs": [],
   "source": []
  }
 ],
 "metadata": {
  "kernelspec": {
   "display_name": "Python 3",
   "language": "python",
   "name": "python3"
  },
  "language_info": {
   "codemirror_mode": {
    "name": "ipython",
    "version": 3
   },
   "file_extension": ".py",
   "mimetype": "text/x-python",
   "name": "python",
   "nbconvert_exporter": "python",
   "pygments_lexer": "ipython3",
   "version": "3.6.4"
  }
 },
 "nbformat": 4,
 "nbformat_minor": 2
}
