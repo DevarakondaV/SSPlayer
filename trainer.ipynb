{
 "cells": [
  {
   "cell_type": "code",
   "execution_count": 1,
   "metadata": {},
   "outputs": [],
   "source": [
    "#imports\n",
    "from cnn import *\n",
    "import time\n",
    "from timeit import timeit,Timer\n",
    "from GameController import *\n",
    "#import itertools\n",
    "import sys\n",
    "#import objgraph\n",
    "import os\n",
    "import psutil\n",
    "from scipy import stats\n",
    "import matplotlib.pyplot as plt\n",
    "from IPython.display import clear_output\n",
    "#import objgraph\n",
    "process = psutil.Process(os.getpid())"
   ]
  },
  {
   "cell_type": "code",
   "execution_count": 2,
   "metadata": {},
   "outputs": [],
   "source": [
    "#Modified Functions\n",
    "#infer_action\n",
    "#get_seq_y\n",
    "#train_network\n",
    "\n",
    "#Relevant Functions\n",
    "def infer_action(seq):\n",
    "    action = tf.get_default_graph().get_tensor_by_name(\"action:0\")\n",
    "    q_compute = tf.get_default_graph().get_tensor_by_name(\"Qnext_val:0\")\n",
    "    outputs = tf.get_default_graph().get_tensor_by_name(\"dense_layers/FC2/act2/Maximum:0\")\n",
    "    x1,y,next_state_bool,Qnext= get_place_holders()\n",
    "    #return sess.run([action],{x1: seq,x2: np.random.rand(1,110,84,4),next_state_bool: False})\n",
    "    a,q,o = sess.run([action,q_compute,outputs],{x1: seq})\n",
    "    return a\n",
    "\n",
    "def send_action_to_game_controller(game,a):\n",
    "    if (a == 0):\n",
    "        game.move_mouse_up()\n",
    "    elif (a == 1):\n",
    "        game.move_mouse_down()\n",
    "    elif (a == 2):\n",
    "        game.move_mouse_left()\n",
    "    elif (a == 3):\n",
    "        game.move_mouse_right()\n",
    "    else:\n",
    "        x = 1\n",
    "        # Do Nothing\n",
    "    \n",
    "    r = game.reward\n",
    "    frames,bval = get_4_frames(game)\n",
    "    return r,frames,bval\n",
    "\n",
    "def random_minibatch_sample(batchsize):\n",
    "    global exp\n",
    "    \n",
    "    line_N = np.random.randint(0,len(exp),size=batchsize)\n",
    "    return np.asarray([exp[i] for i in line_N]).transpose()\n",
    "    \n",
    "def get_seq_y(seq,batch_size,gamma):\n",
    "    q_compute = tf.get_default_graph().get_tensor_by_name(\"Qnext_val:0\")\n",
    "    x1,y,next_state_bool,Qnext = get_place_holders()\n",
    "    #1.0/256\n",
    "    \n",
    "    imgs_2 = [((1.0)*np.array(seq[3,i])).astype(np.float16) for i in range(0,batch_size)]\n",
    "    imgs_1 = [((1.0)*np.array(seq[0,i])).astype(np.float16) for i in range(0,batch_size)]\n",
    "    \n",
    "    q_vals = sess.run([q_compute],{x1: imgs_2})\n",
    "    r_vals = [seq[2,i] for i in range(0,batch_size)]\n",
    "    \n",
    "    q_vals = np.array(q_vals)\n",
    "    r_vals = np.array(r_vals)\n",
    "    y = (r_vals+(gamma*q_vals)).reshape(len(r_vals),1)\n",
    "    return y,np.squeeze(np.array(imgs_1))\n",
    "    \n",
    "def store_exp(seq):\n",
    "    global exp\n",
    "    exp.append(seq)\n",
    "    return\n",
    "\n",
    "def train_network(batch_size,gamma):\n",
    "    #Required tensorflow variables and operations\n",
    "    global writer,summ,it\n",
    "    x1,y,next_state_bool,Qnext = get_place_holders()\n",
    "    train = tf.get_default_graph().get_operation_by_name(\"train/trainer\")\n",
    "    seq = random_minibatch_sample(batch_size)\n",
    "    y_vals,images = get_seq_y(seq,batch_size,gamma)\n",
    "    images = np.squeeze(images)\n",
    "    t,s = sess.run([train,summ],{x1: images, Qnext: y_vals})\n",
    "    writer.add_summary(s,it)\n",
    "    it = it+1\n",
    "    return\n",
    "\n",
    "def get_4_frames(game):\n",
    "    imgs = np.concatenate((take_shot(game),\n",
    "                         take_shot(game),\n",
    "                         take_shot(game),\n",
    "                         take_shot(game)),axis=2)\n",
    "    bval = game.get_screen_number2(np.array(imgs))\n",
    "    rtnbool = True if bval else False\n",
    "    return imgs,rtnbool\n",
    "\n",
    "def add_to_queue(frames):\n",
    "    global writer,summ,i\n",
    "    q = tf.get_default_graph().get_operation_by_name(\"FIFOQueue/Train_Queue\")\n",
    "    q.enqueue(frames)"
   ]
  },
  {
   "cell_type": "code",
   "execution_count": 3,
   "metadata": {},
   "outputs": [],
   "source": [
    "#Train/Play Fucnction\n",
    "def run(game,greed,M,batch_size,gamma):\n",
    "    global exp\n",
    "    t_a = []\n",
    "    for i in range(0,M):  #New play\n",
    "        clear_output(wait=True)\n",
    "        if (i % 50 == 0):\n",
    "            if (greed >= .2):\n",
    "                greed = greed-.2\n",
    "            else:\n",
    "                greed = .1\n",
    "        wait_for(1)\n",
    "        p = 0\n",
    "        t = time.time()\n",
    "        game.click_to_play()\n",
    "        while game.get_screen_number(take_shot(game)): #for j in range(0,T): #While play active\n",
    "            frames1,test = get_4_frames(game)\n",
    "            if (not test):\n",
    "                break\n",
    "            a = np.asarray(np.random.randint(0,5)).astype(np.uint8) if (np.random.random_sample(1) <= greed) else np.asarray(infer_action([frames1])).astype(np.float16)\n",
    "            r,frames2,test = send_action_to_game_controller(game,a)\n",
    "            if (not test):\n",
    "                break\n",
    "            store_exp((frames1,np.array(a).astype(np.uint8),np.array(r).astype(np.float16),frames2))\n",
    "            if (len(exp) > 5):\n",
    "                #add_to_train_queue(batch_size)\n",
    "                train_network(batch_size,gamma)\n",
    "        game.release_click()\n",
    "        t_a.append(time.time()-t)\n",
    "        wait_for(.3)\n",
    "        game.click_replay()\n",
    "        print(\"Iteration: \",i)\n",
    "        print(\"Greed: \",greed)\n",
    "        #print(\"size: \",len(exp))\n",
    "        #print(\"size bytes: \",sys.getsizeof(exp))\n",
    "        print(\"mem: \",(process.memory_info().rss)/1e6)\n",
    "    return t_a\n",
    "\n",
    "def play_game(game,M):\n",
    "    for i in range(0,M):\n",
    "        wait_for(1)\n",
    "        game.click_to_play()\n",
    "        while game.get_screen_number2(take_shot(game)):\n",
    "            frames,test = get_4_frames(game)\n",
    "            if (not test):\n",
    "                break\n",
    "            a = infer_action([frames])\n",
    "            r,frames,test = send_action_to_game_controller(game,a)\n",
    "            if (not test):\n",
    "                break\n",
    "        game.release_click()\n",
    "        wait_for(.3)\n",
    "        game.click_replay()\n",
    "        print(\"Play Iteration: \",i)"
   ]
  },
  {
   "cell_type": "code",
   "execution_count": 4,
   "metadata": {},
   "outputs": [],
   "source": [
    "def data_generator():\n",
    "    global exp\n",
    "    line_N = np.random.randint(0,len(exp),size=32)\n",
    "    seq = np.asarray([exp[i] for i in line_N]).transpose()\n",
    "    #y_vals,images = get_seq_y(seq,32,.9)\n",
    "    yield seq\n"
   ]
  },
  {
   "cell_type": "code",
   "execution_count": 5,
   "metadata": {},
   "outputs": [
    {
     "ename": "TypeError",
     "evalue": "Incompatible return types of true_fn and false_fn: The two structures don't have the same nested structure.\n\nFirst structure: type=list str=[<tf.Tensor 'cond/Const:0' shape=() dtype=float16>, <tf.Tensor 'place_holder/x1:0' shape=(?, 110, 84, 4) dtype=float16>]\n\nSecond structure: type=tuple str=(<tf.Tensor 'IteratorGetNext:0' shape=() dtype=float16>, <tf.Tensor 'IteratorGetNext:1' shape=<unknown> dtype=float16>)\n\nMore specifically: The two namedtuples don't have the same sequence type. First structure type=list str=[<tf.Tensor 'cond/Const:0' shape=() dtype=float16>, <tf.Tensor 'place_holder/x1:0' shape=(?, 110, 84, 4) dtype=float16>] has type list, while second structure type=tuple str=(<tf.Tensor 'IteratorGetNext:0' shape=() dtype=float16>, <tf.Tensor 'IteratorGetNext:1' shape=<unknown> dtype=float16>) has type tuple",
     "output_type": "error",
     "traceback": [
      "\u001b[1;31m---------------------------------------------------------------------------\u001b[0m",
      "\u001b[1;31mTypeError\u001b[0m                                 Traceback (most recent call last)",
      "\u001b[1;32mc:\\users\\vishnu\\envs\\rl\\lib\\site-packages\\tensorflow\\python\\ops\\control_flow_ops.py\u001b[0m in \u001b[0;36mcond\u001b[1;34m(pred, true_fn, false_fn, strict, name, fn1, fn2)\u001b[0m\n\u001b[0;32m   2083\u001b[0m     \u001b[1;32mtry\u001b[0m\u001b[1;33m:\u001b[0m\u001b[1;33m\u001b[0m\u001b[0m\n\u001b[1;32m-> 2084\u001b[1;33m       \u001b[0mnest\u001b[0m\u001b[1;33m.\u001b[0m\u001b[0massert_same_structure\u001b[0m\u001b[1;33m(\u001b[0m\u001b[0morig_res_t\u001b[0m\u001b[1;33m,\u001b[0m \u001b[0morig_res_f\u001b[0m\u001b[1;33m)\u001b[0m\u001b[1;33m\u001b[0m\u001b[0m\n\u001b[0m\u001b[0;32m   2085\u001b[0m     \u001b[1;32mexcept\u001b[0m \u001b[0mTypeError\u001b[0m \u001b[1;32mas\u001b[0m \u001b[0me\u001b[0m\u001b[1;33m:\u001b[0m\u001b[1;33m\u001b[0m\u001b[0m\n",
      "\u001b[1;32mc:\\users\\vishnu\\envs\\rl\\lib\\site-packages\\tensorflow\\python\\util\\nest.py\u001b[0m in \u001b[0;36massert_same_structure\u001b[1;34m(nest1, nest2, check_types)\u001b[0m\n\u001b[0;32m    182\u001b[0m   \"\"\"\n\u001b[1;32m--> 183\u001b[1;33m   \u001b[0m_pywrap_tensorflow\u001b[0m\u001b[1;33m.\u001b[0m\u001b[0mAssertSameStructure\u001b[0m\u001b[1;33m(\u001b[0m\u001b[0mnest1\u001b[0m\u001b[1;33m,\u001b[0m \u001b[0mnest2\u001b[0m\u001b[1;33m,\u001b[0m \u001b[0mcheck_types\u001b[0m\u001b[1;33m)\u001b[0m\u001b[1;33m\u001b[0m\u001b[0m\n\u001b[0m\u001b[0;32m    184\u001b[0m \u001b[1;33m\u001b[0m\u001b[0m\n",
      "\u001b[1;31mTypeError\u001b[0m: The two structures don't have the same nested structure.\n\nFirst structure: type=list str=[<tf.Tensor 'cond/Const:0' shape=() dtype=float16>, <tf.Tensor 'place_holder/x1:0' shape=(?, 110, 84, 4) dtype=float16>]\n\nSecond structure: type=tuple str=(<tf.Tensor 'IteratorGetNext:0' shape=() dtype=float16>, <tf.Tensor 'IteratorGetNext:1' shape=<unknown> dtype=float16>)\n\nMore specifically: The two namedtuples don't have the same sequence type. First structure type=list str=[<tf.Tensor 'cond/Const:0' shape=() dtype=float16>, <tf.Tensor 'place_holder/x1:0' shape=(?, 110, 84, 4) dtype=float16>] has type list, while second structure type=tuple str=(<tf.Tensor 'IteratorGetNext:0' shape=() dtype=float16>, <tf.Tensor 'IteratorGetNext:1' shape=<unknown> dtype=float16>) has type tuple",
      "\nDuring handling of the above exception, another exception occurred:\n",
      "\u001b[1;31mTypeError\u001b[0m                                 Traceback (most recent call last)",
      "\u001b[1;32m<ipython-input-5-4dc236f6d4aa>\u001b[0m in \u001b[0;36m<module>\u001b[1;34m()\u001b[0m\n\u001b[0;32m      9\u001b[0m \u001b[0mbatch_size\u001b[0m \u001b[1;33m=\u001b[0m \u001b[1;36m10\u001b[0m\u001b[1;33m\u001b[0m\u001b[0m\n\u001b[0;32m     10\u001b[0m \u001b[0mLOGDIR\u001b[0m \u001b[1;33m=\u001b[0m \u001b[1;34mr\"c:\\Users\\Vishnu\\Documents\\EngProj\\SSPlayer\\log1k2\"\u001b[0m\u001b[1;33m\u001b[0m\u001b[0m\n\u001b[1;32m---> 11\u001b[1;33m \u001b[0msess\u001b[0m\u001b[1;33m,\u001b[0m\u001b[0mwriter\u001b[0m\u001b[1;33m,\u001b[0m\u001b[0msumm\u001b[0m\u001b[1;33m,\u001b[0m\u001b[0mplace_holders\u001b[0m\u001b[1;33m=\u001b[0m \u001b[0mcreate_model\u001b[0m\u001b[1;33m(\u001b[0m\u001b[0mlearning_rate\u001b[0m\u001b[1;33m,\u001b[0m\u001b[0mdata_generator\u001b[0m\u001b[1;33m,\u001b[0m\u001b[0mbatch_size\u001b[0m\u001b[1;33m,\u001b[0m\u001b[0mconv_count\u001b[0m\u001b[1;33m,\u001b[0m\u001b[0mfc_count\u001b[0m\u001b[1;33m,\u001b[0m\u001b[0mconv\u001b[0m\u001b[1;33m,\u001b[0m\u001b[0mfclyr\u001b[0m\u001b[1;33m,\u001b[0m\u001b[0mconv_k_size\u001b[0m\u001b[1;33m,\u001b[0m\u001b[0mconv_stride\u001b[0m\u001b[1;33m,\u001b[0m\u001b[0mLOGDIR\u001b[0m\u001b[1;33m)\u001b[0m\u001b[1;33m\u001b[0m\u001b[0m\n\u001b[0m\u001b[0;32m     12\u001b[0m \u001b[0mwriter\u001b[0m\u001b[1;33m.\u001b[0m\u001b[0madd_graph\u001b[0m\u001b[1;33m(\u001b[0m\u001b[0msess\u001b[0m\u001b[1;33m.\u001b[0m\u001b[0mgraph\u001b[0m\u001b[1;33m)\u001b[0m\u001b[1;33m\u001b[0m\u001b[0m\n\u001b[0;32m     13\u001b[0m \u001b[0mprint\u001b[0m\u001b[1;33m(\u001b[0m\u001b[0mtf\u001b[0m\u001b[1;33m.\u001b[0m\u001b[0mget_default_graph\u001b[0m\u001b[1;33m(\u001b[0m\u001b[1;33m)\u001b[0m\u001b[1;33m.\u001b[0m\u001b[0mget_tensor_by_name\u001b[0m\u001b[1;33m(\u001b[0m\u001b[1;34m\"Qnext_val:0\"\u001b[0m\u001b[1;33m)\u001b[0m\u001b[1;33m)\u001b[0m\u001b[1;33m\u001b[0m\u001b[0m\n",
      "\u001b[1;32m~\\Documents\\EngProj\\SSPlayer\\cnn.py\u001b[0m in \u001b[0;36mcreate_model\u001b[1;34m(learning_rate, generator, batch_size, conv_count, fc_count, conv_feats, fc_feats, conv_k_size, conv_stride, LOGDIR)\u001b[0m\n\u001b[0;32m    101\u001b[0m         \u001b[1;32mreturn\u001b[0m \u001b[0mq_iter\u001b[0m\u001b[1;33m,\u001b[0m\u001b[0mimg_iter\u001b[0m\u001b[1;33m\u001b[0m\u001b[0m\n\u001b[0;32m    102\u001b[0m \u001b[1;33m\u001b[0m\u001b[0m\n\u001b[1;32m--> 103\u001b[1;33m     \u001b[0mrtn_val\u001b[0m \u001b[1;33m=\u001b[0m \u001b[0mtf\u001b[0m\u001b[1;33m.\u001b[0m\u001b[0mcond\u001b[0m\u001b[1;33m(\u001b[0m\u001b[0minfer\u001b[0m\u001b[1;33m,\u001b[0m\u001b[0mf_true\u001b[0m\u001b[1;33m,\u001b[0m\u001b[0mf_false\u001b[0m\u001b[1;33m)\u001b[0m\u001b[1;33m\u001b[0m\u001b[0m\n\u001b[0m\u001b[0;32m    104\u001b[0m     \u001b[1;31m#Qnext,x_imgs = create_datapipeline_opt(generator,batch_size)\u001b[0m\u001b[1;33m\u001b[0m\u001b[1;33m\u001b[0m\u001b[0m\n\u001b[0;32m    105\u001b[0m     \u001b[0mQnext\u001b[0m \u001b[1;33m=\u001b[0m \u001b[0mrtn_val\u001b[0m\u001b[1;33m[\u001b[0m\u001b[1;36m0\u001b[0m\u001b[1;33m]\u001b[0m\u001b[1;33m\u001b[0m\u001b[0m\n",
      "\u001b[1;32mc:\\users\\vishnu\\envs\\rl\\lib\\site-packages\\tensorflow\\python\\util\\deprecation.py\u001b[0m in \u001b[0;36mnew_func\u001b[1;34m(*args, **kwargs)\u001b[0m\n\u001b[0;32m    430\u001b[0m                 \u001b[1;34m'in a future version'\u001b[0m \u001b[1;32mif\u001b[0m \u001b[0mdate\u001b[0m \u001b[1;32mis\u001b[0m \u001b[1;32mNone\u001b[0m \u001b[1;32melse\u001b[0m \u001b[1;33m(\u001b[0m\u001b[1;34m'after %s'\u001b[0m \u001b[1;33m%\u001b[0m \u001b[0mdate\u001b[0m\u001b[1;33m)\u001b[0m\u001b[1;33m,\u001b[0m\u001b[1;33m\u001b[0m\u001b[0m\n\u001b[0;32m    431\u001b[0m                 instructions)\n\u001b[1;32m--> 432\u001b[1;33m       \u001b[1;32mreturn\u001b[0m \u001b[0mfunc\u001b[0m\u001b[1;33m(\u001b[0m\u001b[1;33m*\u001b[0m\u001b[0margs\u001b[0m\u001b[1;33m,\u001b[0m \u001b[1;33m**\u001b[0m\u001b[0mkwargs\u001b[0m\u001b[1;33m)\u001b[0m\u001b[1;33m\u001b[0m\u001b[0m\n\u001b[0m\u001b[0;32m    433\u001b[0m     return tf_decorator.make_decorator(func, new_func, 'deprecated',\n\u001b[0;32m    434\u001b[0m                                        _add_deprecated_arg_notice_to_docstring(\n",
      "\u001b[1;32mc:\\users\\vishnu\\envs\\rl\\lib\\site-packages\\tensorflow\\python\\ops\\control_flow_ops.py\u001b[0m in \u001b[0;36mcond\u001b[1;34m(pred, true_fn, false_fn, strict, name, fn1, fn2)\u001b[0m\n\u001b[0;32m   2085\u001b[0m     \u001b[1;32mexcept\u001b[0m \u001b[0mTypeError\u001b[0m \u001b[1;32mas\u001b[0m \u001b[0me\u001b[0m\u001b[1;33m:\u001b[0m\u001b[1;33m\u001b[0m\u001b[0m\n\u001b[0;32m   2086\u001b[0m       raise TypeError(\n\u001b[1;32m-> 2087\u001b[1;33m           \"Incompatible return types of true_fn and false_fn: {}\".format(e))\n\u001b[0m\u001b[0;32m   2088\u001b[0m     \u001b[1;32mexcept\u001b[0m \u001b[0mValueError\u001b[0m \u001b[1;32mas\u001b[0m \u001b[0me\u001b[0m\u001b[1;33m:\u001b[0m\u001b[1;33m\u001b[0m\u001b[0m\n\u001b[0;32m   2089\u001b[0m       raise ValueError(\n",
      "\u001b[1;31mTypeError\u001b[0m: Incompatible return types of true_fn and false_fn: The two structures don't have the same nested structure.\n\nFirst structure: type=list str=[<tf.Tensor 'cond/Const:0' shape=() dtype=float16>, <tf.Tensor 'place_holder/x1:0' shape=(?, 110, 84, 4) dtype=float16>]\n\nSecond structure: type=tuple str=(<tf.Tensor 'IteratorGetNext:0' shape=() dtype=float16>, <tf.Tensor 'IteratorGetNext:1' shape=<unknown> dtype=float16>)\n\nMore specifically: The two namedtuples don't have the same sequence type. First structure type=list str=[<tf.Tensor 'cond/Const:0' shape=() dtype=float16>, <tf.Tensor 'place_holder/x1:0' shape=(?, 110, 84, 4) dtype=float16>] has type list, while second structure type=tuple str=(<tf.Tensor 'IteratorGetNext:0' shape=() dtype=float16>, <tf.Tensor 'IteratorGetNext:1' shape=<unknown> dtype=float16>) has type tuple"
     ]
    }
   ],
   "source": [
    "#[8,4] [4,2]\n",
    "conv_k_size = [8,4]\n",
    "conv_stride = [4,2]\n",
    "conv = [0,16,32]\n",
    "fclyr = [0,125,5]\n",
    "conv_count = len(conv)\n",
    "fc_count = len(fclyr)\n",
    "learning_rate = 1e-4\n",
    "batch_size = 10\n",
    "LOGDIR = r\"c:\\Users\\Vishnu\\Documents\\EngProj\\SSPlayer\\log1k2\"\n",
    "sess,writer,summ,place_holders= create_model(learning_rate,data_generator,batch_size,conv_count,fc_count,conv,fclyr,conv_k_size,conv_stride,LOGDIR)\n",
    "writer.add_graph(sess.graph)\n",
    "print(tf.get_default_graph().get_tensor_by_name(\"Qnext_val:0\"))"
   ]
  },
  {
   "cell_type": "code",
   "execution_count": 5,
   "metadata": {
    "scrolled": true
   },
   "outputs": [
    {
     "name": "stdout",
     "output_type": "stream",
     "text": [
      "Iteration:  1\n",
      "Greed:  0.7\n",
      "mem:  193.39264\n"
     ]
    }
   ],
   "source": [
    "it = 0\n",
    "exp = []\n",
    "app_dir = r\"C:\\Users\\Vishnu\\Documents\\EngProj\\SSPlayer\\Release.win32\\ShapeScape.exe\"\n",
    "if it:\n",
    "    if __name__ == \"__main__\":\n",
    "        game = SSPlayer(app_dir,1)\n",
    "        wait_for(1)\n",
    "        print(\"Game Byte Size: \",sys.getsizeof(game))\n",
    "        game.click_play()\n",
    "        t_a = run(game,.9,2,2,.9)\n",
    "        p_i = np.arange(0,2,1)\n",
    "        #play_game(game,15)\n",
    "        #sess.close()\n",
    "        game.kill()\n",
    "#[128,192,192,264,264]"
   ]
  },
  {
   "cell_type": "code",
   "execution_count": 7,
   "metadata": {},
   "outputs": [],
   "source": [
    "#Other Functions\n",
    "def save_imgs(exp):\n",
    "    img_1 = [(250*((1.0/256)*np.array(exp[i][0]))).astype(np.uint8) for i in range(0,len(exp))]\n",
    "    img_2 = [(250*((1.0/256)*np.array(exp[i][3]))).astype(np.uint8) for i in range(0,len(exp))]\n",
    "    \n",
    "    print(np.shape(img_1))\n",
    "    print(np.shape(img_2))\n",
    "    \n",
    "    imgs= []\n",
    "    for i in img_1:\n",
    "        imgs.append(i[:,:,0])\n",
    "        imgs.append(i[:,:,1])\n",
    "        imgs.append(i[:,:,2])\n",
    "        imgs.append(i[:,:,3])\n",
    "        \n",
    "    \n",
    "    for i in img_2:\n",
    "        imgs.append(i[:,:,0])\n",
    "        imgs.append(i[:,:,1])\n",
    "        imgs.append(i[:,:,2])\n",
    "        imgs.append(i[:,:,3])\n",
    "        \n",
    "    \n",
    "    print(np.shape(imgs))\n",
    "    print(sys.getsizeof(imgs)/1000)\n",
    "    for i in range(0,len(imgs)):\n",
    "        Image.fromarray(imgs[i]).save(r\"test\\frame\"+str(i)+\".png\")\n",
    "    return\n",
    "        \n",
    "def test_seq(game,batch_size):\n",
    "    seq = []\n",
    "    for i in range(0,batch_size):\n",
    "        frames,t = get_4_frames(game,game.processing_crop)\n",
    "        seq.append(frames)\n",
    "        seq.append(np.random.randint(0,4))\n",
    "        seq.append(np.random.random_sample(1))\n",
    "        frames,t = get_4_frames(game,game.processing_crop)\n",
    "        seq.append(frames)\n",
    "    return seq\n",
    "\n",
    "def test():\n",
    "    x1,y,next_state_bool,Qnext = get_place_holders()\n",
    "    train = tf.get_default_graph().get_operation_by_name(\"train/trainer\")\n",
    "    dummy = np.random.rand(32,110,84,4)\n",
    "    y_vals = np.random.rand(32,1)\n",
    "    sess.run([train],{x1: dummy,Qnext: y_vals})\n",
    "    return\n",
    "\n",
    "if False:\n",
    "    print(Timer(lambda: test()).timeit(number=1))\n",
    "    \n",
    "def store_test_data(length):\n",
    "    global exp\n",
    "    for i in range(0,length):\n",
    "        exp.append((np.random.rand(1,110,84,4).astype(np.float16),\n",
    "                    np.random.randint(0,4),\n",
    "                    np.random.rand(1).astype(np.float16),\n",
    "                    np.random.rand(1,110,84,4).astype(np.float16)))\n",
    "    return\n",
    "\n",
    "    \n",
    "def test_new():\n",
    "    train = tf.get_default_graph().get_operation_by_name(\"train/trainer\")\n",
    "    sess.run([train])\n",
    "    return"
   ]
  },
  {
   "cell_type": "code",
   "execution_count": 8,
   "metadata": {},
   "outputs": [
    {
     "name": "stdout",
     "output_type": "stream",
     "text": [
      "50\n"
     ]
    }
   ],
   "source": [
    "exp = []\n",
    "store_test_data(50)\n",
    "print(len(exp))"
   ]
  },
  {
   "cell_type": "code",
   "execution_count": 9,
   "metadata": {},
   "outputs": [
    {
     "name": "stdout",
     "output_type": "stream",
     "text": [
      "9.237314645695434e-05\n"
     ]
    }
   ],
   "source": [
    "print(Timer(lambda: random_minibatch_sample(32)).timeit(number=1))"
   ]
  },
  {
   "cell_type": "code",
   "execution_count": 8,
   "metadata": {},
   "outputs": [],
   "source": [
    "x = 0\n",
    "if x:\n",
    "    game = SSPlayer(app_dir,2)\n",
    "    wait_for(1)\n",
    "    game.click_play()\n",
    "    wait_for(1)\n",
    "    play_game(game,15)\n",
    "    game.kill()"
   ]
  },
  {
   "cell_type": "code",
   "execution_count": 9,
   "metadata": {},
   "outputs": [
    {
     "ename": "ValueError",
     "evalue": "x and y must have same first dimension, but have shapes (2,) and (19,)",
     "output_type": "error",
     "traceback": [
      "\u001b[1;31m---------------------------------------------------------------------------\u001b[0m",
      "\u001b[1;31mValueError\u001b[0m                                Traceback (most recent call last)",
      "\u001b[1;32m<ipython-input-9-c5215534c082>\u001b[0m in \u001b[0;36m<module>\u001b[1;34m()\u001b[0m\n\u001b[0;32m      5\u001b[0m \u001b[1;32mif\u001b[0m \u001b[0mit\u001b[0m\u001b[1;33m:\u001b[0m\u001b[1;33m\u001b[0m\u001b[0m\n\u001b[0;32m      6\u001b[0m     \u001b[0mplt\u001b[0m\u001b[1;33m.\u001b[0m\u001b[0mplot\u001b[0m\u001b[1;33m(\u001b[0m\u001b[0mp_i\u001b[0m\u001b[1;33m,\u001b[0m \u001b[0mt_a\u001b[0m\u001b[1;33m,\u001b[0m\u001b[1;34m'o'\u001b[0m\u001b[1;33m)\u001b[0m\u001b[1;33m\u001b[0m\u001b[0m\n\u001b[1;32m----> 7\u001b[1;33m     \u001b[0mplt\u001b[0m\u001b[1;33m.\u001b[0m\u001b[0mplot\u001b[0m\u001b[1;33m(\u001b[0m\u001b[0mp_i\u001b[0m\u001b[1;33m,\u001b[0m \u001b[0msmooth\u001b[0m\u001b[1;33m(\u001b[0m\u001b[0mt_a\u001b[0m\u001b[1;33m,\u001b[0m\u001b[1;36m19\u001b[0m\u001b[1;33m)\u001b[0m\u001b[1;33m,\u001b[0m \u001b[1;34m'r-'\u001b[0m\u001b[1;33m,\u001b[0m \u001b[0mlw\u001b[0m\u001b[1;33m=\u001b[0m\u001b[1;36m2\u001b[0m\u001b[1;33m)\u001b[0m\u001b[1;33m\u001b[0m\u001b[0m\n\u001b[0m\u001b[0;32m      8\u001b[0m     \u001b[0mplt\u001b[0m\u001b[1;33m.\u001b[0m\u001b[0mshow\u001b[0m\u001b[1;33m(\u001b[0m\u001b[1;33m)\u001b[0m\u001b[1;33m\u001b[0m\u001b[0m\n",
      "\u001b[1;32mc:\\users\\vishnu\\envs\\rl\\lib\\site-packages\\matplotlib\\pyplot.py\u001b[0m in \u001b[0;36mplot\u001b[1;34m(*args, **kwargs)\u001b[0m\n\u001b[0;32m   3356\u001b[0m                       mplDeprecation)\n\u001b[0;32m   3357\u001b[0m     \u001b[1;32mtry\u001b[0m\u001b[1;33m:\u001b[0m\u001b[1;33m\u001b[0m\u001b[0m\n\u001b[1;32m-> 3358\u001b[1;33m         \u001b[0mret\u001b[0m \u001b[1;33m=\u001b[0m \u001b[0max\u001b[0m\u001b[1;33m.\u001b[0m\u001b[0mplot\u001b[0m\u001b[1;33m(\u001b[0m\u001b[1;33m*\u001b[0m\u001b[0margs\u001b[0m\u001b[1;33m,\u001b[0m \u001b[1;33m**\u001b[0m\u001b[0mkwargs\u001b[0m\u001b[1;33m)\u001b[0m\u001b[1;33m\u001b[0m\u001b[0m\n\u001b[0m\u001b[0;32m   3359\u001b[0m     \u001b[1;32mfinally\u001b[0m\u001b[1;33m:\u001b[0m\u001b[1;33m\u001b[0m\u001b[0m\n\u001b[0;32m   3360\u001b[0m         \u001b[0max\u001b[0m\u001b[1;33m.\u001b[0m\u001b[0m_hold\u001b[0m \u001b[1;33m=\u001b[0m \u001b[0mwashold\u001b[0m\u001b[1;33m\u001b[0m\u001b[0m\n",
      "\u001b[1;32mc:\\users\\vishnu\\envs\\rl\\lib\\site-packages\\matplotlib\\__init__.py\u001b[0m in \u001b[0;36minner\u001b[1;34m(ax, *args, **kwargs)\u001b[0m\n\u001b[0;32m   1853\u001b[0m                         \u001b[1;34m\"the Matplotlib list!)\"\u001b[0m \u001b[1;33m%\u001b[0m \u001b[1;33m(\u001b[0m\u001b[0mlabel_namer\u001b[0m\u001b[1;33m,\u001b[0m \u001b[0mfunc\u001b[0m\u001b[1;33m.\u001b[0m\u001b[0m__name__\u001b[0m\u001b[1;33m)\u001b[0m\u001b[1;33m,\u001b[0m\u001b[1;33m\u001b[0m\u001b[0m\n\u001b[0;32m   1854\u001b[0m                         RuntimeWarning, stacklevel=2)\n\u001b[1;32m-> 1855\u001b[1;33m             \u001b[1;32mreturn\u001b[0m \u001b[0mfunc\u001b[0m\u001b[1;33m(\u001b[0m\u001b[0max\u001b[0m\u001b[1;33m,\u001b[0m \u001b[1;33m*\u001b[0m\u001b[0margs\u001b[0m\u001b[1;33m,\u001b[0m \u001b[1;33m**\u001b[0m\u001b[0mkwargs\u001b[0m\u001b[1;33m)\u001b[0m\u001b[1;33m\u001b[0m\u001b[0m\n\u001b[0m\u001b[0;32m   1856\u001b[0m \u001b[1;33m\u001b[0m\u001b[0m\n\u001b[0;32m   1857\u001b[0m         inner.__doc__ = _add_data_doc(inner.__doc__,\n",
      "\u001b[1;32mc:\\users\\vishnu\\envs\\rl\\lib\\site-packages\\matplotlib\\axes\\_axes.py\u001b[0m in \u001b[0;36mplot\u001b[1;34m(self, *args, **kwargs)\u001b[0m\n\u001b[0;32m   1525\u001b[0m         \u001b[0mkwargs\u001b[0m \u001b[1;33m=\u001b[0m \u001b[0mcbook\u001b[0m\u001b[1;33m.\u001b[0m\u001b[0mnormalize_kwargs\u001b[0m\u001b[1;33m(\u001b[0m\u001b[0mkwargs\u001b[0m\u001b[1;33m,\u001b[0m \u001b[0m_alias_map\u001b[0m\u001b[1;33m)\u001b[0m\u001b[1;33m\u001b[0m\u001b[0m\n\u001b[0;32m   1526\u001b[0m \u001b[1;33m\u001b[0m\u001b[0m\n\u001b[1;32m-> 1527\u001b[1;33m         \u001b[1;32mfor\u001b[0m \u001b[0mline\u001b[0m \u001b[1;32min\u001b[0m \u001b[0mself\u001b[0m\u001b[1;33m.\u001b[0m\u001b[0m_get_lines\u001b[0m\u001b[1;33m(\u001b[0m\u001b[1;33m*\u001b[0m\u001b[0margs\u001b[0m\u001b[1;33m,\u001b[0m \u001b[1;33m**\u001b[0m\u001b[0mkwargs\u001b[0m\u001b[1;33m)\u001b[0m\u001b[1;33m:\u001b[0m\u001b[1;33m\u001b[0m\u001b[0m\n\u001b[0m\u001b[0;32m   1528\u001b[0m             \u001b[0mself\u001b[0m\u001b[1;33m.\u001b[0m\u001b[0madd_line\u001b[0m\u001b[1;33m(\u001b[0m\u001b[0mline\u001b[0m\u001b[1;33m)\u001b[0m\u001b[1;33m\u001b[0m\u001b[0m\n\u001b[0;32m   1529\u001b[0m             \u001b[0mlines\u001b[0m\u001b[1;33m.\u001b[0m\u001b[0mappend\u001b[0m\u001b[1;33m(\u001b[0m\u001b[0mline\u001b[0m\u001b[1;33m)\u001b[0m\u001b[1;33m\u001b[0m\u001b[0m\n",
      "\u001b[1;32mc:\\users\\vishnu\\envs\\rl\\lib\\site-packages\\matplotlib\\axes\\_base.py\u001b[0m in \u001b[0;36m_grab_next_args\u001b[1;34m(self, *args, **kwargs)\u001b[0m\n\u001b[0;32m    404\u001b[0m                 \u001b[0mthis\u001b[0m \u001b[1;33m+=\u001b[0m \u001b[0margs\u001b[0m\u001b[1;33m[\u001b[0m\u001b[1;36m0\u001b[0m\u001b[1;33m]\u001b[0m\u001b[1;33m,\u001b[0m\u001b[1;33m\u001b[0m\u001b[0m\n\u001b[0;32m    405\u001b[0m                 \u001b[0margs\u001b[0m \u001b[1;33m=\u001b[0m \u001b[0margs\u001b[0m\u001b[1;33m[\u001b[0m\u001b[1;36m1\u001b[0m\u001b[1;33m:\u001b[0m\u001b[1;33m]\u001b[0m\u001b[1;33m\u001b[0m\u001b[0m\n\u001b[1;32m--> 406\u001b[1;33m             \u001b[1;32mfor\u001b[0m \u001b[0mseg\u001b[0m \u001b[1;32min\u001b[0m \u001b[0mself\u001b[0m\u001b[1;33m.\u001b[0m\u001b[0m_plot_args\u001b[0m\u001b[1;33m(\u001b[0m\u001b[0mthis\u001b[0m\u001b[1;33m,\u001b[0m \u001b[0mkwargs\u001b[0m\u001b[1;33m)\u001b[0m\u001b[1;33m:\u001b[0m\u001b[1;33m\u001b[0m\u001b[0m\n\u001b[0m\u001b[0;32m    407\u001b[0m                 \u001b[1;32myield\u001b[0m \u001b[0mseg\u001b[0m\u001b[1;33m\u001b[0m\u001b[0m\n\u001b[0;32m    408\u001b[0m \u001b[1;33m\u001b[0m\u001b[0m\n",
      "\u001b[1;32mc:\\users\\vishnu\\envs\\rl\\lib\\site-packages\\matplotlib\\axes\\_base.py\u001b[0m in \u001b[0;36m_plot_args\u001b[1;34m(self, tup, kwargs)\u001b[0m\n\u001b[0;32m    381\u001b[0m             \u001b[0mx\u001b[0m\u001b[1;33m,\u001b[0m \u001b[0my\u001b[0m \u001b[1;33m=\u001b[0m \u001b[0mindex_of\u001b[0m\u001b[1;33m(\u001b[0m\u001b[0mtup\u001b[0m\u001b[1;33m[\u001b[0m\u001b[1;33m-\u001b[0m\u001b[1;36m1\u001b[0m\u001b[1;33m]\u001b[0m\u001b[1;33m)\u001b[0m\u001b[1;33m\u001b[0m\u001b[0m\n\u001b[0;32m    382\u001b[0m \u001b[1;33m\u001b[0m\u001b[0m\n\u001b[1;32m--> 383\u001b[1;33m         \u001b[0mx\u001b[0m\u001b[1;33m,\u001b[0m \u001b[0my\u001b[0m \u001b[1;33m=\u001b[0m \u001b[0mself\u001b[0m\u001b[1;33m.\u001b[0m\u001b[0m_xy_from_xy\u001b[0m\u001b[1;33m(\u001b[0m\u001b[0mx\u001b[0m\u001b[1;33m,\u001b[0m \u001b[0my\u001b[0m\u001b[1;33m)\u001b[0m\u001b[1;33m\u001b[0m\u001b[0m\n\u001b[0m\u001b[0;32m    384\u001b[0m \u001b[1;33m\u001b[0m\u001b[0m\n\u001b[0;32m    385\u001b[0m         \u001b[1;32mif\u001b[0m \u001b[0mself\u001b[0m\u001b[1;33m.\u001b[0m\u001b[0mcommand\u001b[0m \u001b[1;33m==\u001b[0m \u001b[1;34m'plot'\u001b[0m\u001b[1;33m:\u001b[0m\u001b[1;33m\u001b[0m\u001b[0m\n",
      "\u001b[1;32mc:\\users\\vishnu\\envs\\rl\\lib\\site-packages\\matplotlib\\axes\\_base.py\u001b[0m in \u001b[0;36m_xy_from_xy\u001b[1;34m(self, x, y)\u001b[0m\n\u001b[0;32m    240\u001b[0m         \u001b[1;32mif\u001b[0m \u001b[0mx\u001b[0m\u001b[1;33m.\u001b[0m\u001b[0mshape\u001b[0m\u001b[1;33m[\u001b[0m\u001b[1;36m0\u001b[0m\u001b[1;33m]\u001b[0m \u001b[1;33m!=\u001b[0m \u001b[0my\u001b[0m\u001b[1;33m.\u001b[0m\u001b[0mshape\u001b[0m\u001b[1;33m[\u001b[0m\u001b[1;36m0\u001b[0m\u001b[1;33m]\u001b[0m\u001b[1;33m:\u001b[0m\u001b[1;33m\u001b[0m\u001b[0m\n\u001b[0;32m    241\u001b[0m             raise ValueError(\"x and y must have same first dimension, but \"\n\u001b[1;32m--> 242\u001b[1;33m                              \"have shapes {} and {}\".format(x.shape, y.shape))\n\u001b[0m\u001b[0;32m    243\u001b[0m         \u001b[1;32mif\u001b[0m \u001b[0mx\u001b[0m\u001b[1;33m.\u001b[0m\u001b[0mndim\u001b[0m \u001b[1;33m>\u001b[0m \u001b[1;36m2\u001b[0m \u001b[1;32mor\u001b[0m \u001b[0my\u001b[0m\u001b[1;33m.\u001b[0m\u001b[0mndim\u001b[0m \u001b[1;33m>\u001b[0m \u001b[1;36m2\u001b[0m\u001b[1;33m:\u001b[0m\u001b[1;33m\u001b[0m\u001b[0m\n\u001b[0;32m    244\u001b[0m             raise ValueError(\"x and y can be no greater than 2-D, but have \"\n",
      "\u001b[1;31mValueError\u001b[0m: x and y must have same first dimension, but have shapes (2,) and (19,)"
     ]
    },
    {
     "data": {
      "image/png": "[encoded data removed]",
      "text/plain": [
       "<Figure size 432x288 with 1 Axes>"
      ]
     },
     "metadata": {},
     "output_type": "display_data"
    }
   ],
   "source": [
    "def smooth(y, box_pts):\n",
    "    box = np.ones(box_pts)/box_pts\n",
    "    y_smooth = np.convolve(y, box, mode='same')\n",
    "    return y_smooth\n",
    "if it:\n",
    "    plt.plot(p_i, t_a,'o')\n",
    "    plt.plot(p_i, smooth(t_a,19), 'r-', lw=2)\n",
    "    plt.show()"
   ]
  }
 ],
 "metadata": {
  "kernelspec": {
   "display_name": "Python 3",
   "language": "python",
   "name": "python3"
  },
  "language_info": {
   "codemirror_mode": {
    "name": "ipython",
    "version": 3
   },
   "file_extension": ".py",
   "mimetype": "text/x-python",
   "name": "python",
   "nbconvert_exporter": "python",
   "pygments_lexer": "ipython3",
   "version": "3.6.5"
  }
 },
 "nbformat": 4,
 "nbformat_minor": 2
}
